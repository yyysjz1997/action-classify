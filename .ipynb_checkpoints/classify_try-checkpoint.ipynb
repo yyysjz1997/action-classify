{
 "cells": [
  {
   "cell_type": "markdown",
   "metadata": {},
   "source": [
    "## 训练自己的数据，并进行预测"
   ]
  },
  {
   "cell_type": "code",
   "execution_count": 1,
   "metadata": {},
   "outputs": [
    {
     "name": "stderr",
     "output_type": "stream",
     "text": [
      "/home/multiphase/anaconda3/lib/python3.6/site-packages/h5py/__init__.py:36: FutureWarning: Conversion of the second argument of issubdtype from `float` to `np.floating` is deprecated. In future, it will be treated as `np.float64 == np.dtype(float).type`.\n",
      "  from ._conv import register_converters as _register_converters\n"
     ]
    },
    {
     "name": "stdout",
     "output_type": "stream",
     "text": [
      "['d1p41M', 'd2p75F', 'd1p21F', 'd1p53F', 'd1p12F', 'd2p76F', 'd2p83F', 'd1p47M', 'd2p77F', 'd1p38M', 'd1p46M', 'd1p25F', 'd1p54F', 'd1p17F', 'd2p70F', 'd1p33F', 'd1p58F', 'd2p67F', 'd2p73F', 'd2p71F', 'd1p48M', 'd1p44M', 'd1p05M', 'd2p72F', 'd1p36M', 'd1p14F', 'd1p02M', 'd1p13F', 'd1p57F', 'd1p23F', 'd1p39M', 'd2p85F', 'd1p50F', 'd1p45M', 'd1p55F', 'd1p10F', 'd2p64F', 'd1p03M', 'd1p52F', 'd2p69F', 'd2p62F', 'd2p74F', 'd1p18F', 'd1p27F', 'd1p40M', 'd1p16F', 'd2p86F', 'd1p08F', 'd1p01M', 'd1p60F', 'd1p59F', 'd1p20F', 'd1p07M', 'd1p04M', 'd1p11F', 'd2p78M', 'd2p63F', 'd2p80M', 'd2p81M', 'd2p82M', 'd2p79M', 'd1p28F', 'd1p19F', 'd2p66F', 'd1p30F', 'd1p26F', 'd1p37M', 'd1p56F', 'd1p49F', 'd1p43M', 'd2p84F', 'd1p09F', 'd1p34F', 'd1p51F', 'd1p29F', 'd1p15F', 'd2p61F', 'd2p68F', 'd1p22F', 'd2p87F', 'd1p06M', 'd1p24F', 'd1p42M', 'd2p65F', 'd1p35F', 'd1p32F', 'd1p31F']\n",
      "[]\n",
      "finish!!!!\n"
     ]
    }
   ],
   "source": [
    "%run classify.py"
   ]
  }
 ],
 "metadata": {
  "kernelspec": {
   "display_name": "Python 3",
   "language": "python",
   "name": "python3"
  },
  "language_info": {
   "codemirror_mode": {
    "name": "ipython",
    "version": 3
   },
   "file_extension": ".py",
   "mimetype": "text/x-python",
   "name": "python",
   "nbconvert_exporter": "python",
   "pygments_lexer": "ipython3",
   "version": "3.6.8"
  }
 },
 "nbformat": 4,
 "nbformat_minor": 2
}
